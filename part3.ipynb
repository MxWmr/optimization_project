{
 "cells": [
  {
   "cell_type": "code",
   "execution_count": 1,
   "metadata": {},
   "outputs": [],
   "source": [
    "import pandas as pd\n",
    "import numpy as np\n",
    "import random as rd\n",
    "import matplotlib.pyplot as plt"
   ]
  },
  {
   "cell_type": "markdown",
   "metadata": {},
   "source": [
    "Load and clean the dataset"
   ]
  },
  {
   "cell_type": "code",
   "execution_count": 2,
   "metadata": {},
   "outputs": [
    {
     "name": "stdout",
     "output_type": "stream",
     "text": [
      "(1349, 18)\n"
     ]
    }
   ],
   "source": [
    "df = pd.read_csv('WHO/ledata.csv')\n",
    "df = df.dropna()\n",
    "\n",
    "del df['Country']\n",
    "del df['Year']\n",
    "del df['Status']\n",
    "\n",
    "y = df['Life expectancy '].to_numpy()\n",
    "\n",
    "del df['Life expectancy ']\n",
    "\n",
    "A = df.to_numpy()\n",
    "\n",
    "n_train = 1349\n",
    "\n",
    "A_train = A[:1349:]\n",
    "y_train = y[:1349]\n",
    "\n",
    "A_test = A[1349::]\n",
    "y_test = y[1349:]\n",
    "\n",
    "print(A_train.shape)\n",
    "\n",
    "## data normalization \n",
    "\n",
    "mA = A_train.mean(axis=0)\n",
    "sA = A_train.std(axis=0)\n",
    "\n",
    "\n",
    "A_train = (A_train-mA)/sA\n",
    "A_test = (A_test-mA)/sA\n",
    "\n",
    "m = y_train.mean()\n",
    "y_train = y_train-m\n",
    "y_test = y_test-m"
   ]
  },
  {
   "cell_type": "code",
   "execution_count": 21,
   "metadata": {},
   "outputs": [],
   "source": [
    "### Stochastic gradient descent\n",
    "\n",
    "def SGD(A,y,eps=1e-5,lr = None,verbose=0,itemax=17000,batch_size=1):\n",
    "    X = np.zeros(A.shape[1])\n",
    "    grad = np.array([1000]*A.shape[1])\n",
    "\n",
    "    if lr == None:\n",
    "        lr = 1/np.linalg.norm(A,2)**2   \n",
    "\n",
    "    l_loss = []\n",
    "    ite = 0\n",
    "    m_l = 0\n",
    "    l_i = np.arange(len(y))\n",
    "    while np.all(np.abs(grad) > eps) and ite<itemax:\n",
    "        np.random.shuffle(l_i)\n",
    "        \n",
    "        for batch_start in range(0,len(y),batch_size):\n",
    "            \n",
    "            batch_end =batch_start+batch_size\n",
    "            i = l_i[batch_start:batch_end]\n",
    "            y_pred = A[i,:].dot(X)           \n",
    "            grad =  np.dot(A[i,:].T,(y_pred-y[i]))\n",
    "            X = X - lr*grad\n",
    "            \n",
    "            m_l*=ite\n",
    "            m_l+= (1/2*(y_pred-y[i])**2).mean()\n",
    "            m_l/=(ite+1)\n",
    "            l_loss.append(m_l)\n",
    "            ite+=1\n",
    "\n",
    "    if verbose == 1:\n",
    "        plt.figure(1)\n",
    "        plt.plot(l_loss)\n",
    "        plt.show()\n",
    "        \n",
    "    return X,l_loss"
   ]
  },
  {
   "cell_type": "code",
   "execution_count": 4,
   "metadata": {},
   "outputs": [],
   "source": [
    "def score(X_n,A,y): #return the coeff of determination\n",
    "    y_pred= A@X_n\n",
    "    return 1-(((y_pred-y)**2).sum())/(((y-y.mean())**2).sum())\n",
    "\n",
    "def loss(X_n,A,y):\n",
    "    return np.mean(1/2*np.square(A@X_n-y))"
   ]
  },
  {
   "cell_type": "code",
   "execution_count": 40,
   "metadata": {},
   "outputs": [
    {
     "data": {
      "image/png": "[encoded data removed]",
      "text/plain": [
       "<Figure size 640x480 with 1 Axes>"
      ]
     },
     "metadata": {},
     "output_type": "display_data"
    },
    {
     "name": "stdout",
     "output_type": "stream",
     "text": [
      "7.960848399825789\n"
     ]
    }
   ],
   "source": [
    "X,l_loss = SGD(A_train,y_train,eps=1e-8,verbose=1,batch_size=2)\n",
    "print(loss(X,A_test,y_test))"
   ]
  }
 ],
 "metadata": {
  "kernelspec": {
   "display_name": "Python 3.10.7 64-bit",
   "language": "python",
   "name": "python3"
  },
  "language_info": {
   "codemirror_mode": {
    "name": "ipython",
    "version": 3
   },
   "file_extension": ".py",
   "mimetype": "text/x-python",
   "name": "python",
   "nbconvert_exporter": "python",
   "pygments_lexer": "ipython3",
   "version": "3.10.7"
  },
  "orig_nbformat": 4,
  "vscode": {
   "interpreter": {
    "hash": "65c45682600b822032a055cbf04f0dc5abe5e3c026f7225f43ce560cd84c5728"
   }
  }
 },
 "nbformat": 4,
 "nbformat_minor": 2
}
