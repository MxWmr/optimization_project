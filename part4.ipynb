{
 "cells": [
  {
   "cell_type": "code",
   "execution_count": 1,
   "metadata": {},
   "outputs": [],
   "source": [
    "import pandas as pd\n",
    "import numpy as np\n",
    "import random as rd\n",
    "import matplotlib.pyplot as plt\n",
    "from tqdm import tqdm"
   ]
  },
  {
   "cell_type": "code",
   "execution_count": 2,
   "metadata": {},
   "outputs": [
    {
     "name": "stdout",
     "output_type": "stream",
     "text": [
      "(1349, 18)\n"
     ]
    }
   ],
   "source": [
    "df = pd.read_csv('WHO/ledata.csv')\n",
    "df = df.dropna()\n",
    "\n",
    "del df['Country']\n",
    "del df['Year']\n",
    "del df['Status']\n",
    "\n",
    "y = df['Life expectancy '].to_numpy()\n",
    "\n",
    "del df['Life expectancy ']\n",
    "\n",
    "A = df.to_numpy()\n",
    "\n",
    "n_train = 1349\n",
    "\n",
    "A_train = A[:1349:]\n",
    "y_train = y[:1349]\n",
    "\n",
    "A_test = A[1349::]\n",
    "y_test = y[1349:]\n",
    "\n",
    "print(A_train.shape)\n",
    "\n",
    "## data normalization \n",
    "\n",
    "mA = A_train.mean(axis=0)\n",
    "sA = A_train.std(axis=0)\n",
    "\n",
    "\n",
    "A_train = (A_train-mA)/sA\n",
    "A_test = (A_test-mA)/sA\n",
    "\n",
    "m = y_train.mean()\n",
    "y_train = y_train-m\n",
    "y_test = y_test-m"
   ]
  },
  {
   "cell_type": "code",
   "execution_count": 3,
   "metadata": {},
   "outputs": [],
   "source": [
    "def score(X_n,A,y): #return the coeff of determination\n",
    "    y_pred= A@X_n\n",
    "    return 1-(((y_pred-y)**2).sum())/(((y-y.mean())**2).sum())\n",
    "\n",
    "def loss(X_n,A,y):\n",
    "    return np.mean(1/2*np.square(A@X_n-y))"
   ]
  },
  {
   "attachments": {},
   "cell_type": "markdown",
   "metadata": {},
   "source": [
    "Conditional graddient algorithm"
   ]
  },
  {
   "cell_type": "code",
   "execution_count": 22,
   "metadata": {},
   "outputs": [],
   "source": [
    "### Conditional Gradient\n",
    "\n",
    "def cond_grad(A,y,convex_set,set_param,eps=1e-6,verbose=0,itemax=1000):\n",
    "    X = np.zeros(A.shape[1])\n",
    "    grad = np.array([1000]*A.shape[1])\n",
    "    l_loss = []\n",
    "    \n",
    "\n",
    "    if convex_set == 'l2ball':\n",
    "        rad = set_param\n",
    "        def choose_s(grad):\n",
    "            s = np.zeros_like(grad)\n",
    "            for i in range(len(grad)):\n",
    "                s[i] = -np.sign(grad[i])*abs(grad[i])/np.linalg.norm(grad,2)\n",
    "            return s//np.linalg.norm(s,2)*rad\n",
    "\n",
    "    elif convex_set == 'l1ball':   \n",
    "        def choose_s(grad):\n",
    "            k = np.argmax(np.abs(grad))\n",
    "            e = np.zeros_like(grad)\n",
    "            e[k]=1\n",
    "            return -np.sign(grad[k])*e\n",
    "\n",
    "\n",
    "    for i in range(itemax):\n",
    "        y_pred =  X.T.dot(A.T) \n",
    "        grad =  np.dot(A.T,(y_pred-y))\n",
    "\n",
    "        s = choose_s(grad)\n",
    "        gt = np.inner(grad,s-X)\n",
    "        if gt >= eps:\n",
    "            break\n",
    "        step = 2/(i+3)\n",
    "        \n",
    "        X += step*(s-X)\n",
    "\n",
    "        y_pred = A.dot(X)\n",
    "        l_loss.append((1/2*(y_pred-y)**2).mean())\n",
    "\n",
    "\n",
    "    if verbose == 1:\n",
    "        plt.figure(1)\n",
    "        plt.plot(l_loss)\n",
    "        plt.xlabel('iteration')\n",
    "        plt.ylabel('loss')\n",
    "        plt.show()\n",
    "        \n",
    "    return X,l_loss"
   ]
  },
  {
   "cell_type": "code",
   "execution_count": 25,
   "metadata": {},
   "outputs": [
    {
     "data": {
      "image/png": "[encoded data removed]",
      "text/plain": [
       "<Figure size 640x480 with 1 Axes>"
      ]
     },
     "metadata": {},
     "output_type": "display_data"
    },
    {
     "name": "stdout",
     "output_type": "stream",
     "text": [
      "2440.073380836871\n"
     ]
    }
   ],
   "source": [
    "X_n,l_loss = cond_grad(A,y,'l2ball',11,verbose=1)\n",
    "\n",
    "print(loss(X_n,A,y))"
   ]
  },
  {
   "cell_type": "code",
   "execution_count": 12,
   "metadata": {},
   "outputs": [],
   "source": [
    "def proj_grad(A,y,convex_set,set_param,eps=1e-2,lr=None,verbose=0,itemax=6000):\n",
    "    X = np.random.rand(A.shape[1])\n",
    "    grad = np.array([1000]*A.shape[1])\n",
    "    if lr == None:\n",
    "        lr = 1/np.linalg.norm(A,2)**2   \n",
    "\n",
    "    if convex_set == 'l2ball':\n",
    "        rad = set_param\n",
    "        def proj(X):\n",
    "            return rad/max(np.linalg.norm(X,2),rad)*X\n",
    "\n",
    "    elif convex_set == 'simplex':\n",
    "        ## method proposed by Laurent Condat\n",
    "        a = set_param\n",
    "        def proj(X):\n",
    "            v,rho= [X[0]],X[0]-a\n",
    "            v_tild = []\n",
    "            for i in range(2,len(X)):\n",
    "                if X[i]>rho:\n",
    "                    rho+=(X[i]-rho)/(len(v)+1)\n",
    "                    if rho>(X[i]-a):\n",
    "                        v.append(X[i])\n",
    "                    else:\n",
    "                        v_tild.append(v)\n",
    "                        v,rho = [X[i]],X[i]-a\n",
    "            if len(v_tild)>=1:\n",
    "                for i in v_tild:\n",
    "                    if i>rho:\n",
    "                        v.append(i)\n",
    "                        rho = rho+(i-rho)/len(v)\n",
    "            old_v=[]\n",
    "            while len(old_v)!=len(v):\n",
    "                old_v = v\n",
    "                for i in range(len(v)):\n",
    "                    if v[i] <= rho:\n",
    "                        del v[i]\n",
    "                        rho += (rho-v[i])/len(v)\n",
    "            thau,K = rho,len(v)\n",
    "            X_out=np.zeros_like(X)\n",
    "            for i in range(len(X)):\n",
    "                X_out[i] = max(X[i]-thau,0)\n",
    "            return X_out\n",
    "\n",
    "    l_loss = []\n",
    "    ite = 0\n",
    "    X = proj(X)\n",
    "    while np.all(np.abs(grad) > eps) and ite<itemax:\n",
    "        y_pred = A.dot(X)\n",
    "        grad = np.dot(A.T,(y_pred-y))\n",
    "        X = X - lr*grad\n",
    "        X = proj(X)\n",
    "        y_pred = A.dot(X)\n",
    "        l_loss.append((1/2*(y_pred-y)**2).mean())\n",
    "        #l_loss.append(grad)\n",
    "        ite+=1 \n",
    "\n",
    "        \n",
    "\n",
    "    if verbose == 1:\n",
    "        plt.figure(1)\n",
    "        plt.plot(l_loss)\n",
    "        plt.xlabel('iteration')\n",
    "        plt.ylabel('loss')\n",
    "        plt.show()\n",
    "        \n",
    "    return X,l_loss"
   ]
  },
  {
   "cell_type": "code",
   "execution_count": 13,
   "metadata": {},
   "outputs": [
    {
     "data": {
      "image/png": "[encoded data removed]",
      "text/plain": [
       "<Figure size 640x480 with 1 Axes>"
      ]
     },
     "metadata": {},
     "output_type": "display_data"
    },
    {
     "name": "stdout",
     "output_type": "stream",
     "text": [
      "23024189.530324545\n"
     ]
    }
   ],
   "source": [
    "X_n,l_loss = proj_grad(A,y,'l2ball',15,verbose=1)\n",
    "\n",
    "print(loss(X_n,A,y))"
   ]
  }
 ],
 "metadata": {
  "kernelspec": {
   "display_name": "Python 3",
   "language": "python",
   "name": "python3"
  },
  "language_info": {
   "codemirror_mode": {
    "name": "ipython",
    "version": 3
   },
   "file_extension": ".py",
   "mimetype": "text/x-python",
   "name": "python",
   "nbconvert_exporter": "python",
   "pygments_lexer": "ipython3",
   "version": "3.10.7"
  },
  "orig_nbformat": 4,
  "vscode": {
   "interpreter": {
    "hash": "65c45682600b822032a055cbf04f0dc5abe5e3c026f7225f43ce560cd84c5728"
   }
  }
 },
 "nbformat": 4,
 "nbformat_minor": 2
}
