{
 "cells": [
  {
   "cell_type": "code",
   "execution_count": 1,
   "metadata": {},
   "outputs": [],
   "source": [
    "import numpy as np\n",
    "import random as rd\n",
    "from tqdm import tqdm\n",
    "import matplotlib.pyplot as plt"
   ]
  },
  {
   "cell_type": "markdown",
   "metadata": {},
   "source": [
    "Question 1"
   ]
  },
  {
   "cell_type": "code",
   "execution_count": 2,
   "metadata": {},
   "outputs": [],
   "source": [
    "def relu(x):\n",
    "\n",
    "    val = x.copy()\n",
    "    grad = x.copy()\n",
    "    for i in range(len(x)):\n",
    "        if val[i]<0:\n",
    "            val[i]=0\n",
    "            grad[i]=0\n",
    "        else:\n",
    "            grad[i]=1\n",
    "    \n",
    "    def vjp(u):\n",
    "        vjp_wrt_x = u*grad\n",
    "        return vjp_wrt_x\n",
    "\n",
    "\n",
    "    return val,vjp,grad"
   ]
  },
  {
   "cell_type": "code",
   "execution_count": 3,
   "metadata": {},
   "outputs": [
    {
     "name": "stdout",
     "output_type": "stream",
     "text": [
      "[5]\n",
      "[5.]\n"
     ]
    }
   ],
   "source": [
    "x = np.array([2])\n",
    "\n",
    "val, vjp,grad = relu(x)\n",
    "\n",
    "eps=0.01\n",
    "\n",
    "df = (relu(x+eps)[0] - relu(x)[0])/eps\n",
    "\n",
    "u = np.array([5])\n",
    "\n",
    "print(vjp(u))\n",
    "\n",
    "print(u*df)"
   ]
  },
  {
   "cell_type": "markdown",
   "metadata": {},
   "source": [
    "Question 2"
   ]
  },
  {
   "cell_type": "code",
   "execution_count": 4,
   "metadata": {},
   "outputs": [],
   "source": [
    "def dot(W, x):\n",
    "    value = np.dot(W, x)\n",
    "\n",
    "    def vjp(u):\n",
    "        return np.outer(u, x), W.T.dot(u)\n",
    "\n",
    "    return value, vjp\n"
   ]
  },
  {
   "cell_type": "code",
   "execution_count": 5,
   "metadata": {},
   "outputs": [],
   "source": [
    "def mlp2(x,W1,W2):\n",
    "\n",
    "    x2,vjp_relu1,grd_relu1 = relu(dot(W1,x)[0])\n",
    "\n",
    "    value,vjp_relu2,grd_relu2  = relu(dot(W2,x2)[0])\n",
    "\n",
    "\n",
    "    def vjp(u):\n",
    "        vjp_x = vjp_relu2*W2.T*grd_relu1*W1\n",
    "        vjp_W1 = vjp_relu2*W2.T*grd_relu1*x\n",
    "        vjp_W2 = vjp_relu2*x2\n",
    "        \n",
    "        return vjp_x,vjp_W1,vjp_W2\n",
    "    \n",
    "    grad = [grd_relu2*W2*grd_relu1*W1,grd_relu2*W2*grd_relu1*x,grd_relu2*x2]\n",
    "\n",
    "        \n",
    "    \n",
    "    return value,vjp,grad"
   ]
  },
  {
   "cell_type": "code",
   "execution_count": 6,
   "metadata": {},
   "outputs": [
    {
     "name": "stdout",
     "output_type": "stream",
     "text": [
      "(array([12, 12]), <function mlp2.<locals>.vjp at 0x000002C48A460160>, [array([[2, 2],\n",
      "       [2, 2]]), array([[2, 4],\n",
      "       [2, 4]]), array([3, 3])])\n"
     ]
    }
   ],
   "source": [
    "x = np.array([1,2])\n",
    "W1 = np.array([[1,1],[1,1]])\n",
    "W2 = np.array([[2,2],[2,2]])\n",
    "print(mlp2(x,W1,W2))"
   ]
  },
  {
   "cell_type": "markdown",
   "metadata": {},
   "source": [
    "Question 3"
   ]
  },
  {
   "cell_type": "code",
   "execution_count": 7,
   "metadata": {},
   "outputs": [],
   "source": [
    "def squared_loss(y_pred, y):\n",
    "    residual = y_pred - y\n",
    "    \n",
    "    grad_y_pred = np.sum(residual)\n",
    "    grad_y = -np.sum(residual)\n",
    "    grad = [grad_y_pred,grad_y]\n",
    "    \n",
    "    def vjp(u):\n",
    "        vjp_y_pred = u*grad[0]\n",
    "        vjp_y = u*grad[1]\n",
    "        return vjp_y_pred, vjp_y\n",
    "\n",
    "    value = 0.5 * np.sum(residual ** 2)\n",
    "\n",
    "    return np.array([value]), vjp, grad\n"
   ]
  },
  {
   "cell_type": "code",
   "execution_count": 8,
   "metadata": {},
   "outputs": [
    {
     "name": "stdout",
     "output_type": "stream",
     "text": [
      "(array([1.815]), <function squared_loss.<locals>.vjp at 0x000002C4EA1A1000>, [-0.5, 0.5])\n"
     ]
    }
   ],
   "source": [
    "y_pred = np.array([1,2,5,4])\n",
    "y = np.array([0.5,2,4.3,5.7])\n",
    "\n",
    "print(squared_loss(y_pred,y))"
   ]
  },
  {
   "cell_type": "markdown",
   "metadata": {},
   "source": [
    "Question 4"
   ]
  },
  {
   "cell_type": "code",
   "execution_count": 9,
   "metadata": {},
   "outputs": [],
   "source": [
    "def loss(x, y, W1, W2):\n",
    "\n",
    "    y_pred,vjp_mlp,grad_mlp = mlp2(x,W1,W2)\n",
    "    value,vjp_sl,grad_sl = squared_loss(y_pred, y)\n",
    "\n",
    "    def vjp(u):\n",
    "        vjp_y_pred, vjp_y = vjp_sl(u)\n",
    "        [grad_x,grad_w1,grad_w2] = grad_mlp\n",
    "\n",
    "        vjp_x = vjp_y_pred*grad_x\n",
    "        vjp_w1 = vjp_y_pred*grad_w1\n",
    "        vjp_w2 = vjp_y_pred*grad_w2\n",
    "        \n",
    "        return vjp_x,vjp_w1,vjp_w2,vjp_y\n",
    "\n",
    "    return value, vjp"
   ]
  },
  {
   "cell_type": "code",
   "execution_count": 10,
   "metadata": {},
   "outputs": [
    {
     "name": "stdout",
     "output_type": "stream",
     "text": [
      "(array([0.5]), <function loss.<locals>.vjp at 0x000002C48A460A60>)\n"
     ]
    }
   ],
   "source": [
    "y = np.array([12,13])\n",
    "print(loss(x,y,W1,W2))"
   ]
  },
  {
   "cell_type": "markdown",
   "metadata": {},
   "source": [
    "Question 5"
   ]
  },
  {
   "cell_type": "code",
   "execution_count": 11,
   "metadata": {},
   "outputs": [],
   "source": [
    "def mlp_forward(x,Dico_W): # Dico_W contains the matrices W and the keys are range(N_matrices)\n",
    "    X = x\n",
    "    l_grad = []\n",
    "    l_val = []\n",
    "    for i in range(len(Dico_W.keys())):\n",
    "        l_val.append(np.array([X]))\n",
    "        W = Dico_W[i]\n",
    "        X = dot(W.T,X)[0]\n",
    "        X,vjp,grad = relu(X)\n",
    "        l_grad.append(np.array([grad]))\n",
    "    \n",
    "    return X,l_grad,l_val"
   ]
  },
  {
   "cell_type": "code",
   "execution_count": 12,
   "metadata": {},
   "outputs": [],
   "source": [
    "def loss(x, y, Dico_W):\n",
    "\n",
    "    y_pred,grad_mlp,val_mlp = mlp_forward(x,Dico_W)\n",
    "    value,vjp_sl,grad_sl = squared_loss(y_pred, y)\n",
    "    grad_mlp.append([grad_sl[0]])\n",
    "    def vjp(u):\n",
    "        vjp_y_pred, vjp_y = vjp_sl(u)\n",
    "\n",
    "        l_vjp=[]\n",
    "        for i in range(len(Dico_W)):\n",
    "            l_vjp.append(vjp_y_pred*grad_mlp[i])\n",
    "            \n",
    "        l_vjp.append(vjp_y)\n",
    "        return l_vjp\n",
    "\n",
    "    return value, grad_mlp,val_mlp,vjp"
   ]
  },
  {
   "cell_type": "code",
   "execution_count": 13,
   "metadata": {},
   "outputs": [],
   "source": [
    "def mlp_backprop(dico_w,grad_l,val_mlp,lr):\n",
    "    k=len(dico_w)\n",
    "    dico_w[k] = np.array([[1]])\n",
    "    k-=1\n",
    "    a=np.array([grad_l[-1]])\n",
    "    for i in range(len(grad_l)-2,0,-1):     \n",
    "        a = (a @ (dico_w[k+1].T)) * grad_l[i]\n",
    "        dico_w[k]= dico_w[k].astype('float') - lr*((val_mlp[k].T) @ a).astype('float')\n",
    "        k-=1\n",
    "    del dico_w[len(dico_w)-1]\n",
    "    return dico_w"
   ]
  },
  {
   "cell_type": "markdown",
   "metadata": {},
   "source": [
    "Question 6"
   ]
  },
  {
   "cell_type": "code",
   "execution_count": 14,
   "metadata": {},
   "outputs": [],
   "source": [
    "def SGD_train(X,Y,Dico_W,lr,epochs=10):\n",
    "    l_loss=[]\n",
    "    l_x = list(range(len(X)))\n",
    "    rd.shuffle(l_x)   # x_choose: list of index of chosen points\n",
    "    for e in tqdm(range(epochs)):\n",
    "        for x in l_x:\n",
    "            l,grad_l,val_mlp,vjp = loss(X[x], Y[x], Dico_W)\n",
    "            Dico_W = mlp_backprop(Dico_W,grad_l,val_mlp,lr)\n",
    "        if e%100==0:\n",
    "            l_loss.append(evaluate(X,Y,Dico_W))\n",
    "    \n",
    "    return Dico_W,l_loss\n",
    "\n",
    "\n",
    "def evaluate(X,Y,Dico_W):\n",
    "    s=0\n",
    "    for i in range(len(X)):\n",
    "        s+=(loss(X[i], Y[i], Dico_W))[0]\n",
    "    return s/len(X)"
   ]
  },
  {
   "cell_type": "code",
   "execution_count": 15,
   "metadata": {},
   "outputs": [
    {
     "name": "stdout",
     "output_type": "stream",
     "text": [
      "[17.101905]\n"
     ]
    },
    {
     "name": "stderr",
     "output_type": "stream",
     "text": [
      "100%|██████████| 30000/30000 [00:16<00:00, 1867.00it/s]\n"
     ]
    },
    {
     "data": {
      "image/png": "[encoded data removed]",
      "text/plain": [
       "<Figure size 640x480 with 1 Axes>"
      ]
     },
     "metadata": {},
     "output_type": "display_data"
    },
    {
     "name": "stdout",
     "output_type": "stream",
     "text": [
      "[0.0011354]\n",
      "3.0 [3.01219679]\n",
      "6.0 [6.02439359]\n",
      "20.0 [20.00538363]\n",
      "8.0 [8.0135427]\n",
      "5.0 [5.00134591]\n",
      "5.0 [4.88745341]\n"
     ]
    }
   ],
   "source": [
    "x = np.array([[1.,2],[2,4],[8,12],[3,5],[2,3],[4,1]])\n",
    "y = np.array([3,6,20.,8,5,5])\n",
    "\n",
    "rd.seed(10000)\n",
    "w1=np.random.uniform(size=(2,3)).astype('float')\n",
    "w2 = np.random.uniform(size=(3,1)).astype('float')\n",
    "w3 = np.random.uniform(size=(2,2)).astype('float')\n",
    "w4 = np.random.uniform(size=(2,1)).astype('float')\n",
    "dico_w= {0:w1,1:w2}\n",
    "\n",
    "print(evaluate(x,y,dico_w))\n",
    "dico_w2,l_loss = SGD_train(x,y,dico_w,1e-4,epochs=30000)\n",
    "\n",
    "plt.figure(1)\n",
    "plt.plot(l_loss)\n",
    "plt.xlabel('epoch')\n",
    "plt.ylabel('loss')\n",
    "plt.show()\n",
    "\n",
    "print(evaluate(x,y,dico_w2))\n",
    "for i in range(len(x)):\n",
    "    print(y[i],mlp_forward(x[i],dico_w2)[0])\n",
    "\n",
    "\n",
    "## one hidlayer : 7.28924358e-05 two:  3.14653699e-09 three: 0.00867924"
   ]
  }
 ],
 "metadata": {
  "kernelspec": {
   "display_name": "Python 3.10.7 64-bit",
   "language": "python",
   "name": "python3"
  },
  "language_info": {
   "codemirror_mode": {
    "name": "ipython",
    "version": 3
   },
   "file_extension": ".py",
   "mimetype": "text/x-python",
   "name": "python",
   "nbconvert_exporter": "python",
   "pygments_lexer": "ipython3",
   "version": "3.10.7"
  },
  "orig_nbformat": 4,
  "vscode": {
   "interpreter": {
    "hash": "65c45682600b822032a055cbf04f0dc5abe5e3c026f7225f43ce560cd84c5728"
   }
  }
 },
 "nbformat": 4,
 "nbformat_minor": 2
}
